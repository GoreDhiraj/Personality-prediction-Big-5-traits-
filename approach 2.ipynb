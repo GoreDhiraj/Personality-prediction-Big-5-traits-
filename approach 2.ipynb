{
 "cells": [
  {
   "cell_type": "code",
   "execution_count": 1,
   "id": "53461379",
   "metadata": {},
   "outputs": [],
   "source": [
    "\n",
    "import numpy as np # linear algebra\n",
    "import pandas as pd # data processing, CSV file I/O (e.g. pd.read_csv)\n",
    "import seaborn as sns\n",
    "from sklearn.preprocessing import RobustScaler\n",
    "from sklearn.linear_model import LogisticRegression\n",
    "from sklearn.svm import SVC\n",
    "from sklearn.ensemble import RandomForestClassifier, AdaBoostClassifier\n",
    "from sklearn.neighbors import KNeighborsClassifier\n",
    "from sklearn.model_selection import KFold, GridSearchCV\n",
    "import warnings\n",
    "warnings.filterwarnings('ignore')"
   ]
  },
  {
   "cell_type": "markdown",
   "id": "d159296b",
   "metadata": {},
   "source": [
    "In this notebook I will explore the data, and see how well it can be used for prediction while relying on a stacked metamodel.\n",
    "\n",
    "The given data is composed of features that represent age in years and the Big Five personality traits (each datapoint has ratings for openness, conscientiousness, extroversion, agreeableness, and neuroticism), and is labeled by overall personality labels that don't seem to be directly related to Big Five psychometrics: each datapoint is labeled as either dependable, extraverted, lively, responsible, or serious. It is unclear how these labels were created to begin with, and as we shall soon see these labels are at most weakly related to the Big Five ratings. Still, some limited predictions can ultimately be made.\n",
    "\n",
    "But before we jump to showing the predictive capabilites of a stacking metamodel, let's get acquainted with the data. I'll start by concatenating train.csv and test.csv together so that the data can be first preprocessed and explored as a whole, although I'm not going to assume that these two datasets are similarly distributed (they aren't, which will result in some strange outcomes later on).\n",
    "\n"
   ]
  },
  {
   "cell_type": "code",
   "execution_count": 2,
   "id": "430182e8",
   "metadata": {},
   "outputs": [
    {
     "data": {
      "text/html": [
       "<div>\n",
       "<style scoped>\n",
       "    .dataframe tbody tr th:only-of-type {\n",
       "        vertical-align: middle;\n",
       "    }\n",
       "\n",
       "    .dataframe tbody tr th {\n",
       "        vertical-align: top;\n",
       "    }\n",
       "\n",
       "    .dataframe thead th {\n",
       "        text-align: right;\n",
       "    }\n",
       "</style>\n",
       "<table border=\"1\" class=\"dataframe\">\n",
       "  <thead>\n",
       "    <tr style=\"text-align: right;\">\n",
       "      <th></th>\n",
       "      <th>Gender</th>\n",
       "      <th>Age</th>\n",
       "      <th>openness</th>\n",
       "      <th>neuroticism</th>\n",
       "      <th>conscientiousness</th>\n",
       "      <th>agreeableness</th>\n",
       "      <th>extraversion</th>\n",
       "      <th>Personality</th>\n",
       "    </tr>\n",
       "  </thead>\n",
       "  <tbody>\n",
       "    <tr>\n",
       "      <th>0</th>\n",
       "      <td>Male</td>\n",
       "      <td>17</td>\n",
       "      <td>7</td>\n",
       "      <td>4</td>\n",
       "      <td>7</td>\n",
       "      <td>3</td>\n",
       "      <td>2</td>\n",
       "      <td>extraverted</td>\n",
       "    </tr>\n",
       "    <tr>\n",
       "      <th>1</th>\n",
       "      <td>Male</td>\n",
       "      <td>19</td>\n",
       "      <td>4</td>\n",
       "      <td>5</td>\n",
       "      <td>4</td>\n",
       "      <td>6</td>\n",
       "      <td>6</td>\n",
       "      <td>serious</td>\n",
       "    </tr>\n",
       "    <tr>\n",
       "      <th>2</th>\n",
       "      <td>Female</td>\n",
       "      <td>18</td>\n",
       "      <td>7</td>\n",
       "      <td>6</td>\n",
       "      <td>4</td>\n",
       "      <td>5</td>\n",
       "      <td>5</td>\n",
       "      <td>dependable</td>\n",
       "    </tr>\n",
       "    <tr>\n",
       "      <th>3</th>\n",
       "      <td>Female</td>\n",
       "      <td>22</td>\n",
       "      <td>5</td>\n",
       "      <td>6</td>\n",
       "      <td>7</td>\n",
       "      <td>4</td>\n",
       "      <td>3</td>\n",
       "      <td>extraverted</td>\n",
       "    </tr>\n",
       "    <tr>\n",
       "      <th>4</th>\n",
       "      <td>Female</td>\n",
       "      <td>19</td>\n",
       "      <td>7</td>\n",
       "      <td>4</td>\n",
       "      <td>6</td>\n",
       "      <td>5</td>\n",
       "      <td>4</td>\n",
       "      <td>lively</td>\n",
       "    </tr>\n",
       "  </tbody>\n",
       "</table>\n",
       "</div>"
      ],
      "text/plain": [
       "   Gender  Age  openness  neuroticism  conscientiousness  agreeableness  \\\n",
       "0    Male   17         7            4                  7              3   \n",
       "1    Male   19         4            5                  4              6   \n",
       "2  Female   18         7            6                  4              5   \n",
       "3  Female   22         5            6                  7              4   \n",
       "4  Female   19         7            4                  6              5   \n",
       "\n",
       "   extraversion  Personality  \n",
       "0             2  extraverted  \n",
       "1             6      serious  \n",
       "2             5   dependable  \n",
       "3             3  extraverted  \n",
       "4             4       lively  "
      ]
     },
     "execution_count": 2,
     "metadata": {},
     "output_type": "execute_result"
    }
   ],
   "source": [
    "df_train = pd.read_csv('train.csv')\n",
    "train_length = len(df_train)\n",
    "df_test = pd.read_csv('test.csv')\n",
    "df_train.rename(columns = {'Personality (Class label)':'Personality'}, inplace = True) \n",
    "df_test.rename(columns = {'Personality (class label)':'Personality'}, inplace = True) \n",
    "df = pd.concat([df_train, df_test])\n",
    "df.head()"
   ]
  },
  {
   "cell_type": "markdown",
   "id": "d6a6caa4",
   "metadata": {},
   "source": [
    "Before I preprocess anything, I'll do some exploration. I will draw a box-and-whiskers plot for each Big Five trait, to roughly see the distribution of each trait within each of the personality label categories.\n",
    "\n"
   ]
  },
  {
   "cell_type": "code",
   "execution_count": 3,
   "id": "e4c4649e",
   "metadata": {},
   "outputs": [
    {
     "data": {
      "text/plain": [
       "<seaborn.axisgrid.FacetGrid at 0x2576a4d6560>"
      ]
     },
     "execution_count": 3,
     "metadata": {},
     "output_type": "execute_result"
    },
    {
     "data": {
      "image/png": "[encoded data removed]",
      "text/plain": [
       "<Figure size 500x500 with 1 Axes>"
      ]
     },
     "metadata": {},
     "output_type": "display_data"
    }
   ],
   "source": [
    "sns.catplot(x=\"Personality\", y=\"openness\", kind=\"box\", data=df)\n"
   ]
  },
  {
   "cell_type": "markdown",
   "id": "66683d56",
   "metadata": {},
   "source": [
    "Each personality label has very similar distributions of 'openness', besides 'lively' which has a distribution which seems a bit more concentrated at above average values.\n",
    "\n"
   ]
  },
  {
   "cell_type": "code",
   "execution_count": 4,
   "id": "179f7558",
   "metadata": {},
   "outputs": [
    {
     "data": {
      "text/plain": [
       "<seaborn.axisgrid.FacetGrid at 0x25767f34370>"
      ]
     },
     "execution_count": 4,
     "metadata": {},
     "output_type": "execute_result"
    },
    {
     "data": {
      "image/png": "[encoded data removed]",
      "text/plain": [
       "<Figure size 500x500 with 1 Axes>"
      ]
     },
     "metadata": {},
     "output_type": "display_data"
    }
   ],
   "source": [
    "sns.catplot(x=\"Personality\", y=\"neuroticism\", kind=\"box\", data=df)\n"
   ]
  },
  {
   "cell_type": "markdown",
   "id": "053dcb43",
   "metadata": {},
   "source": [
    "'neuroticism' looks a bit more useful for us, in as much as it has somewhat different distributions within each personality label.\n",
    "\n"
   ]
  },
  {
   "cell_type": "code",
   "execution_count": 5,
   "id": "eb3b0626",
   "metadata": {},
   "outputs": [
    {
     "data": {
      "text/plain": [
       "<seaborn.axisgrid.FacetGrid at 0x25767ee3f10>"
      ]
     },
     "execution_count": 5,
     "metadata": {},
     "output_type": "execute_result"
    },
    {
     "data": {
      "image/png": "[encoded data removed]",
      "text/plain": [
       "<Figure size 500x500 with 1 Axes>"
      ]
     },
     "metadata": {},
     "output_type": "display_data"
    }
   ],
   "source": [
    "sns.catplot(x=\"Personality\", y=\"conscientiousness\", kind=\"box\", data=df)"
   ]
  },
  {
   "cell_type": "markdown",
   "id": "6b83fd31",
   "metadata": {},
   "source": [
    "onscientiousness' is distributed quite similarly within each personality label, although the 'extraverted' and 'responsible' labels have more individuals with a below average rating."
   ]
  },
  {
   "cell_type": "code",
   "execution_count": 8,
   "id": "a4f2071f",
   "metadata": {},
   "outputs": [
    {
     "data": {
      "text/plain": [
       "<seaborn.axisgrid.FacetGrid at 0x2577004d2a0>"
      ]
     },
     "execution_count": 8,
     "metadata": {},
     "output_type": "execute_result"
    },
    {
     "data": {
      "image/png": "[encoded data removed]",
      "text/plain": [
       "<Figure size 500x500 with 1 Axes>"
      ]
     },
     "metadata": {},
     "output_type": "display_data"
    }
   ],
   "source": [
    "sns.catplot(x=\"Personality\", y=\"agreeableness\", kind=\"box\", data=df)"
   ]
  },
  {
   "cell_type": "markdown",
   "id": "4aacd4ad",
   "metadata": {},
   "source": [
    "'agreeableness' has basically identical distributions for each personality label, and is thus unlikely to be very useful when making predictions."
   ]
  },
  {
   "cell_type": "code",
   "execution_count": 10,
   "id": "0463cb15",
   "metadata": {},
   "outputs": [
    {
     "data": {
      "text/plain": [
       "<seaborn.axisgrid.FacetGrid at 0x2576fece110>"
      ]
     },
     "execution_count": 10,
     "metadata": {},
     "output_type": "execute_result"
    },
    {
     "data": {
      "image/png": "[encoded data removed]",
      "text/plain": [
       "<Figure size 500x500 with 1 Axes>"
      ]
     },
     "metadata": {},
     "output_type": "display_data"
    }
   ],
   "source": [
    "sns.catplot(x=\"Personality\", y=\"extraversion\", kind=\"box\", data=df)"
   ]
  },
  {
   "cell_type": "markdown",
   "id": "fdd208a3",
   "metadata": {},
   "source": [
    "We can see that 'extraversion' has only somewhat different distributions across the personality labels, and a rough divide can be seen between some of the labels. Unlike 'agreeableness', it seems that 'extraversion' could be somewhat useful with regards to prediction.\n",
    "\n",
    "So, from first glance, some Big Five traits seem potentially useful for prediction on their own ('neuroticism', 'extraversion'), some traits seem potentially quite useless on their own ('openness', 'agreeableness'), while 'conscientiousness' looks to be somewhere in between.\n",
    "\n",
    "Before I do a bit more data exploration, some preprocessing is required. First I'll give 'Gender' and 'Personality' numerica"
   ]
  },
  {
   "cell_type": "code",
   "execution_count": 11,
   "id": "05e6e04b",
   "metadata": {},
   "outputs": [],
   "source": [
    "df['Gender'] = df['Gender'].map({'Male': 0,\n",
    "                                 'Female': 1})\n",
    "\n",
    "df['Personality'] = df['Personality'].map({'dependable': 0,\n",
    "                                           'extraverted': 1,\n",
    "                                           'lively': 2,\n",
    "                                           'responsible': 3,\n",
    "                                           'serious': 4})"
   ]
  },
  {
   "cell_type": "markdown",
   "id": "199b975e",
   "metadata": {},
   "source": [
    "Now I'll check for rows with null values:"
   ]
  },
  {
   "cell_type": "code",
   "execution_count": 12,
   "id": "e33b888e",
   "metadata": {},
   "outputs": [
    {
     "data": {
      "text/html": [
       "<div>\n",
       "<style scoped>\n",
       "    .dataframe tbody tr th:only-of-type {\n",
       "        vertical-align: middle;\n",
       "    }\n",
       "\n",
       "    .dataframe tbody tr th {\n",
       "        vertical-align: top;\n",
       "    }\n",
       "\n",
       "    .dataframe thead th {\n",
       "        text-align: right;\n",
       "    }\n",
       "</style>\n",
       "<table border=\"1\" class=\"dataframe\">\n",
       "  <thead>\n",
       "    <tr style=\"text-align: right;\">\n",
       "      <th></th>\n",
       "      <th>Gender</th>\n",
       "      <th>Age</th>\n",
       "      <th>openness</th>\n",
       "      <th>neuroticism</th>\n",
       "      <th>conscientiousness</th>\n",
       "      <th>agreeableness</th>\n",
       "      <th>extraversion</th>\n",
       "      <th>Personality</th>\n",
       "    </tr>\n",
       "  </thead>\n",
       "  <tbody>\n",
       "    <tr>\n",
       "      <th>449</th>\n",
       "      <td>NaN</td>\n",
       "      <td>21</td>\n",
       "      <td>2</td>\n",
       "      <td>5</td>\n",
       "      <td>6</td>\n",
       "      <td>1</td>\n",
       "      <td>5</td>\n",
       "      <td>4</td>\n",
       "    </tr>\n",
       "  </tbody>\n",
       "</table>\n",
       "</div>"
      ],
      "text/plain": [
       "     Gender  Age  openness  neuroticism  conscientiousness  agreeableness  \\\n",
       "449     NaN   21         2            5                  6              1   \n",
       "\n",
       "     extraversion  Personality  \n",
       "449             5            4  "
      ]
     },
     "execution_count": 12,
     "metadata": {},
     "output_type": "execute_result"
    }
   ],
   "source": [
    "df[df.isnull().sum(axis=1) > 0]\n"
   ]
  },
  {
   "cell_type": "markdown",
   "id": "b253b147",
   "metadata": {},
   "source": [
    "Only one row with a null value, in 'Gender'. I'll quickly impute it, in a somewhat ad-hoc manner. I'll group our dataframe by 'Personality' and 'Age', and see what the mean age value is for 'serious' 21-year-olds:"
   ]
  },
  {
   "cell_type": "code",
   "execution_count": 13,
   "id": "0b12a0db",
   "metadata": {},
   "outputs": [
    {
     "data": {
      "text/html": [
       "<div>\n",
       "<style scoped>\n",
       "    .dataframe tbody tr th:only-of-type {\n",
       "        vertical-align: middle;\n",
       "    }\n",
       "\n",
       "    .dataframe tbody tr th {\n",
       "        vertical-align: top;\n",
       "    }\n",
       "\n",
       "    .dataframe thead th {\n",
       "        text-align: right;\n",
       "    }\n",
       "</style>\n",
       "<table border=\"1\" class=\"dataframe\">\n",
       "  <thead>\n",
       "    <tr style=\"text-align: right;\">\n",
       "      <th></th>\n",
       "      <th>Gender</th>\n",
       "      <th>openness</th>\n",
       "      <th>neuroticism</th>\n",
       "      <th>conscientiousness</th>\n",
       "      <th>agreeableness</th>\n",
       "      <th>extraversion</th>\n",
       "    </tr>\n",
       "    <tr>\n",
       "      <th>Age</th>\n",
       "      <th></th>\n",
       "      <th></th>\n",
       "      <th></th>\n",
       "      <th></th>\n",
       "      <th></th>\n",
       "      <th></th>\n",
       "    </tr>\n",
       "  </thead>\n",
       "  <tbody>\n",
       "    <tr>\n",
       "      <th>17</th>\n",
       "      <td>0.375000</td>\n",
       "      <td>4.916667</td>\n",
       "      <td>4.208333</td>\n",
       "      <td>5.041667</td>\n",
       "      <td>4.291667</td>\n",
       "      <td>5.375000</td>\n",
       "    </tr>\n",
       "    <tr>\n",
       "      <th>18</th>\n",
       "      <td>0.531250</td>\n",
       "      <td>5.000000</td>\n",
       "      <td>4.656250</td>\n",
       "      <td>5.109375</td>\n",
       "      <td>4.968750</td>\n",
       "      <td>4.843750</td>\n",
       "    </tr>\n",
       "    <tr>\n",
       "      <th>19</th>\n",
       "      <td>0.506024</td>\n",
       "      <td>4.710843</td>\n",
       "      <td>4.253012</td>\n",
       "      <td>4.433735</td>\n",
       "      <td>5.228916</td>\n",
       "      <td>5.156627</td>\n",
       "    </tr>\n",
       "    <tr>\n",
       "      <th>20</th>\n",
       "      <td>0.250000</td>\n",
       "      <td>4.975000</td>\n",
       "      <td>4.225000</td>\n",
       "      <td>5.200000</td>\n",
       "      <td>4.925000</td>\n",
       "      <td>4.825000</td>\n",
       "    </tr>\n",
       "    <tr>\n",
       "      <th>21</th>\n",
       "      <td>0.406250</td>\n",
       "      <td>4.575758</td>\n",
       "      <td>4.424242</td>\n",
       "      <td>5.030303</td>\n",
       "      <td>5.030303</td>\n",
       "      <td>5.030303</td>\n",
       "    </tr>\n",
       "    <tr>\n",
       "      <th>22</th>\n",
       "      <td>0.476190</td>\n",
       "      <td>5.142857</td>\n",
       "      <td>4.190476</td>\n",
       "      <td>4.619048</td>\n",
       "      <td>5.095238</td>\n",
       "      <td>4.476190</td>\n",
       "    </tr>\n",
       "    <tr>\n",
       "      <th>23</th>\n",
       "      <td>0.133333</td>\n",
       "      <td>4.466667</td>\n",
       "      <td>4.133333</td>\n",
       "      <td>4.933333</td>\n",
       "      <td>5.000000</td>\n",
       "      <td>5.000000</td>\n",
       "    </tr>\n",
       "    <tr>\n",
       "      <th>24</th>\n",
       "      <td>0.400000</td>\n",
       "      <td>4.866667</td>\n",
       "      <td>4.466667</td>\n",
       "      <td>5.133333</td>\n",
       "      <td>3.933333</td>\n",
       "      <td>5.666667</td>\n",
       "    </tr>\n",
       "    <tr>\n",
       "      <th>25</th>\n",
       "      <td>0.500000</td>\n",
       "      <td>5.125000</td>\n",
       "      <td>3.875000</td>\n",
       "      <td>5.375000</td>\n",
       "      <td>4.625000</td>\n",
       "      <td>5.250000</td>\n",
       "    </tr>\n",
       "    <tr>\n",
       "      <th>26</th>\n",
       "      <td>0.333333</td>\n",
       "      <td>3.833333</td>\n",
       "      <td>4.833333</td>\n",
       "      <td>4.500000</td>\n",
       "      <td>5.333333</td>\n",
       "      <td>4.833333</td>\n",
       "    </tr>\n",
       "    <tr>\n",
       "      <th>27</th>\n",
       "      <td>0.000000</td>\n",
       "      <td>4.000000</td>\n",
       "      <td>5.000000</td>\n",
       "      <td>5.000000</td>\n",
       "      <td>6.000000</td>\n",
       "      <td>5.000000</td>\n",
       "    </tr>\n",
       "    <tr>\n",
       "      <th>28</th>\n",
       "      <td>0.000000</td>\n",
       "      <td>2.500000</td>\n",
       "      <td>6.000000</td>\n",
       "      <td>6.000000</td>\n",
       "      <td>2.000000</td>\n",
       "      <td>5.000000</td>\n",
       "    </tr>\n",
       "  </tbody>\n",
       "</table>\n",
       "</div>"
      ],
      "text/plain": [
       "       Gender  openness  neuroticism  conscientiousness  agreeableness  \\\n",
       "Age                                                                      \n",
       "17   0.375000  4.916667     4.208333           5.041667       4.291667   \n",
       "18   0.531250  5.000000     4.656250           5.109375       4.968750   \n",
       "19   0.506024  4.710843     4.253012           4.433735       5.228916   \n",
       "20   0.250000  4.975000     4.225000           5.200000       4.925000   \n",
       "21   0.406250  4.575758     4.424242           5.030303       5.030303   \n",
       "22   0.476190  5.142857     4.190476           4.619048       5.095238   \n",
       "23   0.133333  4.466667     4.133333           4.933333       5.000000   \n",
       "24   0.400000  4.866667     4.466667           5.133333       3.933333   \n",
       "25   0.500000  5.125000     3.875000           5.375000       4.625000   \n",
       "26   0.333333  3.833333     4.833333           4.500000       5.333333   \n",
       "27   0.000000  4.000000     5.000000           5.000000       6.000000   \n",
       "28   0.000000  2.500000     6.000000           6.000000       2.000000   \n",
       "\n",
       "     extraversion  \n",
       "Age                \n",
       "17       5.375000  \n",
       "18       4.843750  \n",
       "19       5.156627  \n",
       "20       4.825000  \n",
       "21       5.030303  \n",
       "22       4.476190  \n",
       "23       5.000000  \n",
       "24       5.666667  \n",
       "25       5.250000  \n",
       "26       4.833333  \n",
       "27       5.000000  \n",
       "28       5.000000  "
      ]
     },
     "execution_count": 13,
     "metadata": {},
     "output_type": "execute_result"
    }
   ],
   "source": [
    "df.groupby(by=['Personality', 'Age']).mean().loc[4]"
   ]
  },
  {
   "cell_type": "markdown",
   "id": "515f4c7a",
   "metadata": {},
   "source": [
    "The mean is closer to 0 i.e. closer to the male numerical value. I'll therefore impute the missing value with 0."
   ]
  },
  {
   "cell_type": "code",
   "execution_count": 14,
   "id": "13176269",
   "metadata": {},
   "outputs": [],
   "source": [
    "df.at[449, 'Gender'] = 0"
   ]
  },
  {
   "cell_type": "markdown",
   "id": "870f4152",
   "metadata": {},
   "source": [
    "I'll now go back to do some more exploration: let's take a look at the correlation matrix of our data. This will allow us to see if there are any clear linear relationships between any of our values, and more importantly between any of our features and the label. We already have a rough idea from our box-and-whiskers plots that no Big Five trait seems to have a strong relationship with any of the personality labels, but looking at a correlation matrix may still be useful."
   ]
  },
  {
   "cell_type": "code",
   "execution_count": 15,
   "id": "4ae3ea2b",
   "metadata": {},
   "outputs": [
    {
     "data": {
      "text/plain": [
       "<Axes: >"
      ]
     },
     "execution_count": 15,
     "metadata": {},
     "output_type": "execute_result"
    },
    {
     "data": {
      "image/png": "[encoded data removed]",
      "text/plain": [
       "<Figure size 640x480 with 2 Axes>"
      ]
     },
     "metadata": {},
     "output_type": "display_data"
    }
   ],
   "source": [
    "sns.heatmap(df.corr(), annot=True)\n"
   ]
  },
  {
   "cell_type": "markdown",
   "id": "70d42f71",
   "metadata": {},
   "source": [
    "Alas, it's now clear that there aren't any strong linear relationships at play: the strongest correlations with regards to our label are with 'Gender' and 'neuroticism', and even those are quite weak. This does not discount the possibility of non-linear relationships that could allow a model to make good predictions, but it's not an encouraging start. Still, let us press on!\n",
    "\n",
    "For our models to work well, we should make sure that our data isn't too skewed:"
   ]
  },
  {
   "cell_type": "code",
   "execution_count": 18,
   "id": "9f686c76",
   "metadata": {},
   "outputs": [
    {
     "data": {
      "text/plain": [
       "Gender              -0.093991\n",
       "Age                  0.471614\n",
       "openness            -0.638642\n",
       "neuroticism         -0.412167\n",
       "conscientiousness   -0.412381\n",
       "agreeableness       -0.552094\n",
       "extraversion        -0.359830\n",
       "Personality         -0.140035\n",
       "dtype: float64"
      ]
     },
     "execution_count": 18,
     "metadata": {},
     "output_type": "execute_result"
    }
   ],
   "source": [
    "df.skew()\n"
   ]
  },
  {
   "cell_type": "markdown",
   "id": "0c662b5a",
   "metadata": {},
   "source": [
    "'openness' and 'agreeableness' have a negative skew below -0.5, so it's probably a good idea to unskew these columns. I'll use a square root transformation over a reflection of these columns:\n",
    "\n"
   ]
  },
  {
   "cell_type": "code",
   "execution_count": 19,
   "id": "e1c77101",
   "metadata": {},
   "outputs": [
    {
     "data": {
      "text/plain": [
       "Gender              -0.093991\n",
       "Age                  0.471614\n",
       "openness             0.234889\n",
       "neuroticism         -0.412167\n",
       "conscientiousness   -0.412381\n",
       "agreeableness        0.107320\n",
       "extraversion        -0.359830\n",
       "Personality         -0.140035\n",
       "dtype: float64"
      ]
     },
     "execution_count": 19,
     "metadata": {},
     "output_type": "execute_result"
    }
   ],
   "source": [
    "df['openness'] = np.sqrt(max(df['openness']+1) - df['openness'])\n",
    "df['agreeableness'] = np.sqrt(max(df['agreeableness']+1) - df['agreeableness'])\n",
    "df.skew()"
   ]
  },
  {
   "cell_type": "markdown",
   "id": "fefed501",
   "metadata": {},
   "source": [
    "At this point, I will split the unified database back into the training and the test set, and then scale them separately:\n",
    "\n"
   ]
  },
  {
   "cell_type": "code",
   "execution_count": 21,
   "id": "81869c82",
   "metadata": {},
   "outputs": [],
   "source": [
    "df_train = df[:train_length]\n",
    "df_test = df[train_length:]\n",
    "Y, X = df_train.values[:,-1], df_train.values[:,:-1]\n",
    "Y_test, X_test = df_test.values[:,-1], df_test.values[:,:-1]\n",
    "X = RobustScaler().fit_transform(X)\n",
    "X_test = RobustScaler().fit_transform(X_test)"
   ]
  },
  {
   "cell_type": "markdown",
   "id": "da3764d6",
   "metadata": {},
   "source": [
    "hen we write machine learning models, we very often start with the i.i.d assumption: that is, we assume that our datapoints come from the same data-generating process, which also means that our training and test sets are assumed to be identically distributed. Let's see if this assumption holds in our case, by checking the distributions of personality labels in both our datasets:"
   ]
  },
  {
   "cell_type": "code",
   "execution_count": 23,
   "id": "02f2ddfd",
   "metadata": {},
   "outputs": [
    {
     "data": {
      "text/plain": [
       "4    0.227080\n",
       "1    0.211566\n",
       "0    0.194640\n",
       "2    0.188999\n",
       "3    0.177715\n",
       "Name: Personality, dtype: float64"
      ]
     },
     "execution_count": 23,
     "metadata": {},
     "output_type": "execute_result"
    }
   ],
   "source": [
    "df_train['Personality'].value_counts() / len(df_train)"
   ]
  },
  {
   "cell_type": "code",
   "execution_count": 24,
   "id": "15d0e71d",
   "metadata": {},
   "outputs": [
    {
     "data": {
      "text/plain": [
       "4    0.485714\n",
       "1    0.244444\n",
       "3    0.126984\n",
       "2    0.076190\n",
       "0    0.066667\n",
       "Name: Personality, dtype: float64"
      ]
     },
     "execution_count": 24,
     "metadata": {},
     "output_type": "execute_result"
    }
   ],
   "source": [
    "df_test['Personality'].value_counts() / len(df_test)\n"
   ]
  },
  {
   "cell_type": "markdown",
   "id": "a10f3616",
   "metadata": {},
   "source": [
    "As we can see, the training and test sets given to us seem to come from very different distributions. Whereas our training set is a bit imbalanced with regards to its personality labels, our test set is even more imbalanced: e.g., label 4, 'serious', makes up almost half of the labels in the test set, while labels 0 and 2 each make up less than ten percent.\n",
    "\n",
    "This isn't a good situation: it means that we shouldn't expect any model trained on our training set to do very well on our test set. Still, let's continue and see what we can do.\n",
    "\n",
    "First, I want to find the best hyperparameters for a number of different models. I'll start by defining the models and the parameter grids I want GridSearchCV to search through:\n",
    "\n"
   ]
  },
  {
   "cell_type": "code",
   "execution_count": 25,
   "id": "d4756e4a",
   "metadata": {},
   "outputs": [],
   "source": [
    "param_grids = {}\n",
    "models = []\n",
    "\n",
    "logistic = LogisticRegression()\n",
    "models.append(logistic)\n",
    "param_grids[logistic] = {'C':np.arange(0.01, 1, 0.01)}\n",
    "\n",
    "svc = SVC()\n",
    "models.append(svc)\n",
    "param_grids[svc] = {'kernel':['poly','rbf'],\n",
    "                    'C':np.arange(0.01, 1, 0.01)}\n",
    "\n",
    "adaboost = AdaBoostClassifier()\n",
    "models.append(adaboost)\n",
    "param_grids[adaboost] = {'n_estimators':np.arange(10, 101, 10)}\n",
    "\n",
    "knn = KNeighborsClassifier()\n",
    "models.append(knn)\n",
    "param_grids[knn] = {'n_neighbors':np.arange(2,11,1),\n",
    "                    'weights':['uniform', 'distance'],\n",
    "                    'p':np.arange(1,4,1)}"
   ]
  },
  {
   "cell_type": "markdown",
   "id": "f33bbb00",
   "metadata": {},
   "source": [
    "Now, I'll define a function that will be able to return the best models, and then use that function to get these best models and their scores:"
   ]
  },
  {
   "cell_type": "code",
   "execution_count": 26,
   "id": "08970b03",
   "metadata": {},
   "outputs": [
    {
     "data": {
      "text/plain": [
       "{'LogisticRegression': 0.23975626810508438,\n",
       " 'SVC': 0.263779842173609,\n",
       " 'AdaBoostClassifier': 0.2820497452801918,\n",
       " 'KNeighborsClassifier': 0.272270502447308}"
      ]
     },
     "execution_count": 26,
     "metadata": {},
     "output_type": "execute_result"
    }
   ],
   "source": [
    "def choose_hyperparameters(models, param_grids, X_train, Y_train):\n",
    "    cv_models = {}\n",
    "    scores = {}\n",
    "    cv_with_scores = {}\n",
    "    for model in models:\n",
    "        label = str(type(model)).split('.')[-1].split(\"'\")[0]\n",
    "        gs = GridSearchCV(model, param_grid=param_grids[model])\n",
    "        gs.fit(X_train, Y_train)\n",
    "        cv_models[label] = gs\n",
    "        scores[label] = gs.best_score_\n",
    "        cv_with_scores[gs] = gs.best_score_\n",
    "    return cv_models, scores, cv_with_scores\n",
    "\n",
    "cv_models, scores, cv_with_scores = choose_hyperparameters(models, param_grids, X, Y)\n",
    "scores"
   ]
  },
  {
   "cell_type": "markdown",
   "id": "923a83cb",
   "metadata": {},
   "source": [
    "What we have here is a pretty bad situation: the best models we could find each have an accuracy of about 25 percent. That is, we might as well just choose our labels randomly, and get results that are about as accurate!\n",
    "\n",
    "So, as our correlation heatmap has foretold, it seems that our datapoints don't seem to have any clear relationship with their accompanying labels. Can we try to make some lemonade from this quite sour lemon?\n",
    "\n",
    "Maybe. Imagine you're an employer, and want to hire people who are specifically \"responsible\" or \"dependable\" more than anything else. Perhaps if you limit yourself to the following labels, you can achieve some sort of predictive capability by giving candidates Big 5 personality tests: either a candidate is responsible or dependable, OR he is not either of these. Let's relabel Y and Y_test accordingly, and fit some new models:\n",
    "\n"
   ]
  },
  {
   "cell_type": "code",
   "execution_count": 27,
   "id": "e278783a",
   "metadata": {},
   "outputs": [
    {
     "data": {
      "text/plain": [
       "{'LogisticRegression': 0.6276495854559985,\n",
       " 'SVC': 0.6304764758765359,\n",
       " 'AdaBoostClassifier': 0.6248326840475477,\n",
       " 'KNeighborsClassifier': 0.6192088702427331}"
      ]
     },
     "execution_count": 27,
     "metadata": {},
     "output_type": "execute_result"
    }
   ],
   "source": [
    "def relabel_personality(x):\n",
    "    if x == 0 or x == 3:\n",
    "        return 1\n",
    "    else:\n",
    "        return 0\n",
    "\n",
    "relabel_personality_v = np.vectorize(relabel_personality)\n",
    "\n",
    "Y = relabel_personality_v(Y)\n",
    "Y_test = relabel_personality_v(Y_test)\n",
    "\n",
    "cv_models, scores, cv_with_scores = choose_hyperparameters(models, param_grids, X, Y)\n",
    "scores"
   ]
  },
  {
   "cell_type": "markdown",
   "id": "9226b4b6",
   "metadata": {},
   "source": [
    "These results are better than flipping a coin, but still quite mediocre. As we already understand, the relationship between the Big Five scores and the accompanying labels is very weak. Still, I'll define a few functions that will allow me to build a stacking metamodel, and then see how well such a metamodel does on our test set (a test set that has comes from a different distribution than our training set!).\n",
    "\n"
   ]
  },
  {
   "cell_type": "code",
   "execution_count": 28,
   "id": "48e835c1",
   "metadata": {},
   "outputs": [],
   "source": [
    "def get_oof_predictions(model, X_train, Y_train, kf):\n",
    "    m = len(X_train)\n",
    "    oof_predictions = np.empty((m,))\n",
    "    for train_index, val_index in kf.split(X_train):\n",
    "        X_tr, X_val = X[train_index], X[val_index] \n",
    "        Y_tr = Y[train_index]\n",
    "        model.fit(X_tr, Y_tr)\n",
    "        oof_predictions[val_index] = model.predict(X_val)\n",
    "    return oof_predictions\n",
    "        \n",
    "def train_metamodel(metamodels, param_grids, models, X_train, Y_train, k):\n",
    "    m = len(X_train)\n",
    "    kf = KFold(n_splits=k)\n",
    "    models_predictions = np.zeros(m)\n",
    "    for model in models:\n",
    "        oof_predictions = get_oof_predictions(model, X_train, Y_train, kf)\n",
    "        models_predictions = np.column_stack((models_predictions, oof_predictions))\n",
    "    models_predictions = models_predictions[:, 1:]\n",
    "    cv_models, scores, cv_with_scores = choose_hyperparameters(metamodels, \n",
    "                                                               param_grids, \n",
    "                                                               models_predictions, \n",
    "                                                               Y_train)\n",
    "    metamodel = max(cv_with_scores, key=cv_with_scores.get)\n",
    "    return metamodel\n",
    "\n",
    "def predict_with_models(models, X):\n",
    "    m = len(X)\n",
    "    models_predictions = np.zeros(m)\n",
    "    for model in models:\n",
    "        model_predictions = model.predict(X)\n",
    "        models_predictions = np.column_stack((models_predictions, model_predictions))\n",
    "    return models_predictions[:, 1:]"
   ]
  },
  {
   "cell_type": "markdown",
   "id": "3aae4f5c",
   "metadata": {},
   "source": [
    "get_oof_predictions trains a model on all of a training set that is split into some number of cross validation sets, each time making predictions on the part of the training set that was not trained on. train_metamodel uses get_oof_predictions to get all of the out of fold (\"oof\") predictions for each model, and then chooses the best hyperparameters for the metamodel that uses all of the oof predictions to predict the labels. Finally, I will use predict_with_models to prepare all of the predictions that the metamodel requires to make a final prediction on the test set."
   ]
  },
  {
   "cell_type": "code",
   "execution_count": 29,
   "id": "660f7f3e",
   "metadata": {},
   "outputs": [
    {
     "data": {
      "text/plain": [
       "0.8063492063492064"
      ]
     },
     "execution_count": 29,
     "metadata": {},
     "output_type": "execute_result"
    }
   ],
   "source": [
    "metamodels = models.copy()\n",
    "models = list(cv_models.values())\n",
    "metamodel = train_metamodel(metamodels, param_grids, models, X, Y, 5)\n",
    "Y_pred = predict_with_models(models, X_test)\n",
    "metamodel_test_score = metamodel.score(Y_pred, Y_test)\n",
    "metamodel_test_score"
   ]
  },
  {
   "cell_type": "code",
   "execution_count": 30,
   "id": "279cf1cb",
   "metadata": {},
   "outputs": [
    {
     "data": {
      "text/plain": [
       "0.6304764758765359"
      ]
     },
     "execution_count": 30,
     "metadata": {},
     "output_type": "execute_result"
    }
   ],
   "source": [
    "metamodel.best_score_"
   ]
  },
  {
   "cell_type": "markdown",
   "id": "8d590846",
   "metadata": {},
   "source": [
    "Whereas the metamodel shows a slight improvement in prediction accuracy over even the best submodel when it comes to the training set (which is to be expected), it is surprisingly accurate when it comes to the test set (this is even more surprising due to the fact that the training and the test sets are differently distributed). This is likely due to an imbalance in the labels of both the training and the test set. Let's take a look:"
   ]
  },
  {
   "cell_type": "code",
   "execution_count": 31,
   "id": "cc7caec1",
   "metadata": {},
   "outputs": [
    {
     "data": {
      "text/plain": [
       "(array([0, 1]), array([445, 264], dtype=int64))"
      ]
     },
     "execution_count": 31,
     "metadata": {},
     "output_type": "execute_result"
    }
   ],
   "source": [
    "np.unique(Y_test, return_counts = True)\n",
    "np.unique(Y, return_counts = True)"
   ]
  },
  {
   "cell_type": "markdown",
   "id": "d256261f",
   "metadata": {},
   "source": [
    "Indeed, we can see an imbalance in both sets. The best that the metamodel learned to do was to predict 0 for almost every datapoint of the training set, and the same behavior applied to the test set ends up with an even higher accuracy:"
   ]
  },
  {
   "cell_type": "code",
   "execution_count": 32,
   "id": "6dcb5a91",
   "metadata": {},
   "outputs": [
    {
     "data": {
      "text/plain": [
       "(array([0, 1]), array([313,   2], dtype=int64))"
      ]
     },
     "execution_count": 32,
     "metadata": {},
     "output_type": "execute_result"
    }
   ],
   "source": [
    "np.unique(metamodel.predict(Y_pred), return_counts = True)\n"
   ]
  },
  {
   "cell_type": "markdown",
   "id": "4d8310c4",
   "metadata": {},
   "source": [
    "So while the test accuracy is high, were we to measure the F-score of our predictions (which also takes into account precision and recall), it wouldn't be terribly good at all. Alas, it seems that our data is simply not terribly suitable for good predictions (as we were afraid, from our preliminary exploration of the data), especially if it is divided into differently distributed training and test sets.\n",
    "\n",
    "Another possible approach to the data that I have not shown in this notebook would be to balance the given training data, using an algorithm such as Synthetic Minority Oversampling Technique, before fitting the models and metamodel. Still, such an approach would not solve the problem of differently distributed training and test data, so I have chosen not to show it here."
   ]
  },
  {
   "cell_type": "code",
   "execution_count": 35,
   "id": "b66c71e2",
   "metadata": {},
   "outputs": [
    {
     "ename": "SyntaxError",
     "evalue": "invalid syntax (3193540603.py, line 1)",
     "output_type": "error",
     "traceback": [
      "\u001b[1;36m  Cell \u001b[1;32mIn[35], line 1\u001b[1;36m\u001b[0m\n\u001b[1;33m    git clone <repository-url>\u001b[0m\n\u001b[1;37m        ^\u001b[0m\n\u001b[1;31mSyntaxError\u001b[0m\u001b[1;31m:\u001b[0m invalid syntax\n"
     ]
    }
   ],
   "source": []
  },
  {
   "cell_type": "code",
   "execution_count": null,
   "id": "45c57a46",
   "metadata": {},
   "outputs": [],
   "source": []
  }
 ],
 "metadata": {
  "kernelspec": {
   "display_name": "Python 3 (ipykernel)",
   "language": "python",
   "name": "python3"
  },
  "language_info": {
   "codemirror_mode": {
    "name": "ipython",
    "version": 3
   },
   "file_extension": ".py",
   "mimetype": "text/x-python",
   "name": "python",
   "nbconvert_exporter": "python",
   "pygments_lexer": "ipython3",
   "version": "3.10.9"
  }
 },
 "nbformat": 4,
 "nbformat_minor": 5
}
